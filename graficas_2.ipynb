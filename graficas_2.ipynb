{
  "nbformat": 4,
  "nbformat_minor": 0,
  "metadata": {
    "colab": {
      "provenance": []
    },
    "kernelspec": {
      "name": "python3",
      "display_name": "Python 3"
    },
    "language_info": {
      "name": "python"
    }
  },
  "cells": [
    {
      "cell_type": "code",
      "execution_count": 1,
      "metadata": {
        "id": "CBDhuQuY5Cbx"
      },
      "outputs": [],
      "source": [
        "import pandas as pd"
      ]
    },
    {
      "cell_type": "code",
      "source": [
        "df = pd.read_csv('mexico_covid19.csv')\n",
        "df.head()"
      ],
      "metadata": {
        "id": "ytM9-CNJ5OeV"
      },
      "execution_count": null,
      "outputs": []
    },
    {
      "cell_type": "code",
      "source": [
        "df['ENTIDAD'].unique()"
      ],
      "metadata": {
        "id": "Y3dndHnt6FYj"
      },
      "execution_count": null,
      "outputs": []
    },
    {
      "cell_type": "code",
      "source": [
        "len(df['ENTIDAD'].unique())"
      ],
      "metadata": {
        "id": "loaQnReF6KPG"
      },
      "execution_count": null,
      "outputs": []
    },
    {
      "cell_type": "code",
      "source": [
        "df2 = df.groupby(['ENTIDAD']).count()"
      ],
      "metadata": {
        "id": "FQpVZtpb6Rgs"
      },
      "execution_count": 5,
      "outputs": []
    },
    {
      "cell_type": "code",
      "source": [
        "df2.head()"
      ],
      "metadata": {
        "id": "41hlhH-56785"
      },
      "execution_count": null,
      "outputs": []
    },
    {
      "cell_type": "code",
      "source": [
        "df2.reset_index(inplace = True)"
      ],
      "metadata": {
        "id": "ec1SdLfP69Xw"
      },
      "execution_count": 7,
      "outputs": []
    },
    {
      "cell_type": "code",
      "source": [
        "df2.head()"
      ],
      "metadata": {
        "id": "eWwySiOV7DaH"
      },
      "execution_count": null,
      "outputs": []
    },
    {
      "cell_type": "code",
      "source": [
        "df2 = df2[['ENTIDAD', 'id']]\n",
        "df2.head()"
      ],
      "metadata": {
        "id": "WvjH3qbp7EoV"
      },
      "execution_count": null,
      "outputs": []
    },
    {
      "cell_type": "code",
      "source": [
        "tamaño = len(df2)\n",
        "tamaño"
      ],
      "metadata": {
        "id": "R6gvY3hf7LcO"
      },
      "execution_count": null,
      "outputs": []
    },
    {
      "cell_type": "code",
      "source": [
        "datos = '['\n",
        "datos"
      ],
      "metadata": {
        "id": "gJDzIJwk7djL"
      },
      "execution_count": null,
      "outputs": []
    },
    {
      "cell_type": "code",
      "source": [
        "i = 1\n",
        "for index, row in df2.iterrows():\n",
        "  entidad = row['ENTIDAD']\n",
        "  value = row['id']\n",
        "  if i < tamaño:\n",
        "    datos += '{ \"entidad\": \"'+entidad+'\", \"value\": '+str(value)+'},'\n",
        "    i = i + 1\n",
        "  else:\n",
        "    datos += '{ \"entidad\": \"'+entidad+'\", \"value\": '+str(value)+'} ]'"
      ],
      "metadata": {
        "id": "Ixg3noBN7m41"
      },
      "execution_count": 13,
      "outputs": []
    },
    {
      "cell_type": "code",
      "source": [
        "datos"
      ],
      "metadata": {
        "id": "MbeUgqn674lD"
      },
      "execution_count": null,
      "outputs": []
    },
    {
      "cell_type": "code",
      "source": [
        "df.head()"
      ],
      "metadata": {
        "id": "_8uJMzGx75rg"
      },
      "execution_count": null,
      "outputs": []
    },
    {
      "cell_type": "code",
      "source": [
        "df = df[['id','ENTIDAD','CARDIOVASCULAR','OBESIDAD','TABAQUISMO']]\n",
        "df.head()"
      ],
      "metadata": {
        "id": "CmKlivcoOIpG"
      },
      "execution_count": null,
      "outputs": []
    },
    {
      "cell_type": "code",
      "source": [
        "len(df)"
      ],
      "metadata": {
        "id": "h8bEPmJlOwOA"
      },
      "execution_count": null,
      "outputs": []
    },
    {
      "cell_type": "code",
      "source": [
        "df['CARDIOVASCULAR'].unique()"
      ],
      "metadata": {
        "id": "dek3fZubO3vB"
      },
      "execution_count": null,
      "outputs": []
    },
    {
      "cell_type": "code",
      "source": [
        "df['OBESIDAD'].unique()"
      ],
      "metadata": {
        "id": "uikmeqf3O9zv"
      },
      "execution_count": null,
      "outputs": []
    },
    {
      "cell_type": "code",
      "source": [
        "df['TABAQUISMO'].unique()"
      ],
      "metadata": {
        "id": "DuJkYC2JO93T"
      },
      "execution_count": null,
      "outputs": []
    },
    {
      "cell_type": "code",
      "source": [
        "casos = []\n",
        "estados = []\n",
        "cont_cardio = 0\n",
        "cont_obesidad = 0\n",
        "cont_tabaco = 0"
      ],
      "metadata": {
        "id": "TfipkzRYe0Sv"
      },
      "execution_count": 130,
      "outputs": []
    },
    {
      "cell_type": "code",
      "source": [
        "def contar_casos(estado):\n",
        "  for index, row in df.iterrows():\n",
        "    edo = row['ENTIDAD']\n",
        "    if edo == estado:\n",
        "      print(edo)\n",
        "      cardio = row['CARDIOVASCULAR']\n",
        "      obesidad = row['OBESIDAD']\n",
        "      tabaco = row['TABAQUISMO']\n",
        "      if cardio == 2:\n",
        "        global cont_cardio\n",
        "        cont_cardio = cont_cardio + 1\n",
        "      if obesidad == 2:\n",
        "        global cont_obesidad\n",
        "        cont_obesidad = cont_obesidad + 1\n",
        "      if tabaco == 2:\n",
        "        global cont_tabaco\n",
        "        cont_tabaco = cont_tabaco + 1\n",
        "  global estados\n",
        "  estados.append(estado)\n",
        "  global casos\n",
        "  casos.append(cont_cardio)\n"
      ],
      "metadata": {
        "id": "5Cds0Hc0WOGc"
      },
      "execution_count": 131,
      "outputs": []
    },
    {
      "cell_type": "code",
      "source": [
        "estado = 'Sinaloa'\n",
        "contar_casos(estado)"
      ],
      "metadata": {
        "id": "A8K3leKqd7z7"
      },
      "execution_count": null,
      "outputs": []
    },
    {
      "cell_type": "code",
      "source": [
        "estados"
      ],
      "metadata": {
        "id": "HR_RWK4TWN18"
      },
      "execution_count": null,
      "outputs": []
    },
    {
      "cell_type": "code",
      "source": [
        "casos"
      ],
      "metadata": {
        "id": "Xeyp3dsDeNQU"
      },
      "execution_count": null,
      "outputs": []
    }
  ]
}